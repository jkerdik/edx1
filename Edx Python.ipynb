{
 "cells": [
  {
   "cell_type": "markdown",
   "metadata": {
    "collapsed": true
   },
   "source": [
    "# edX - massive open online course (MOOC) provider"
   ]
  },
  {
   "cell_type": "markdown",
   "metadata": {},
   "source": [
    "It hosts online university-level courses in a wide range of disciplines to a worldwide student body. It also conducts research into learning based on how people use its platform. EdX differs from other MOOC providers, such as Coursera and Udacity, in that it is a nonprofit organization and runs on the Open edX open-source software.\n",
    "The Massachusetts Institute of Technology and Harvard University created edX in May 2012. More than 70 schools, nonprofit organizations, and corporations offer or plan to offer courses on the edX website. As of 29 December 2016, edX has around 10 million students taking more than 1,270 courses online. Wikipedia"
   ]
  },
  {
   "cell_type": "code",
   "execution_count": 1,
   "metadata": {
    "collapsed": false
   },
   "outputs": [],
   "source": [
    "import pandas as pd \n",
    "import seaborn as sns\n",
    "%matplotlib inline\n",
    "import matplotlib.pyplot as plt\n",
    "\n",
    "\n",
    "from sklearn import preprocessing\n",
    "import numpy as np\n",
    "import matplotlib  \n",
    "matplotlib.style.use('ggplot')\n",
    "import math\n",
    "#conda install -c conda-forge wordcloud=1.2.1\n",
    "#import matplotlib.pyplot as plt"
   ]
  },
  {
   "cell_type": "markdown",
   "metadata": {},
   "source": [
    "# Data from kaggle"
   ]
  },
  {
   "cell_type": "code",
   "execution_count": 2,
   "metadata": {
    "collapsed": false
   },
   "outputs": [
    {
     "name": "stdout",
     "output_type": "stream",
     "text": [
      "Index(['Institution', 'Course Number', 'Launch Date', 'Course Title',\n",
      "       'Instructors', 'Course Subject', 'Year', 'Honor Code Certificates',\n",
      "       'Participants (Course Content Accessed)',\n",
      "       'Audited (> 50% Course Content Accessed)', 'Certified', '% Audited',\n",
      "       '% Certified', '% Certified of > 50% Course Content Accessed',\n",
      "       '% Played Video', '% Posted in Forum', '% Grade Higher Than Zero',\n",
      "       'Total Course Hours (Thousands)', 'Median Hours for Certification',\n",
      "       'Median Age', '% Male', '% Female', '% Bachelor's Degree or Higher',\n",
      "       'year'],\n",
      "      dtype='object')\n"
     ]
    }
   ],
   "source": [
    "df = pd.read_excel(\"EDXup1.xlsx\")  \n",
    "df['year'] = df['Launch Date'].dt.year\n",
    "print(df.columns)"
   ]
  },
  {
   "cell_type": "code",
   "execution_count": 3,
   "metadata": {
    "collapsed": false
   },
   "outputs": [
    {
     "data": {
      "text/plain": [
       "290"
      ]
     },
     "execution_count": 3,
     "metadata": {},
     "output_type": "execute_result"
    }
   ],
   "source": [
    "len(df)  #Shows the length, that is number of records"
   ]
  },
  {
   "cell_type": "code",
   "execution_count": 4,
   "metadata": {
    "collapsed": false
   },
   "outputs": [
    {
     "data": {
      "text/html": [
       "<div>\n",
       "<table border=\"1\" class=\"dataframe\">\n",
       "  <thead>\n",
       "    <tr style=\"text-align: right;\">\n",
       "      <th></th>\n",
       "      <th>Institution</th>\n",
       "      <th>Course Number</th>\n",
       "      <th>Launch Date</th>\n",
       "      <th>Course Title</th>\n",
       "      <th>Instructors</th>\n",
       "      <th>Course Subject</th>\n",
       "      <th>Year</th>\n",
       "      <th>Honor Code Certificates</th>\n",
       "      <th>Participants (Course Content Accessed)</th>\n",
       "      <th>Audited (&gt; 50% Course Content Accessed)</th>\n",
       "      <th>...</th>\n",
       "      <th>% Played Video</th>\n",
       "      <th>% Posted in Forum</th>\n",
       "      <th>% Grade Higher Than Zero</th>\n",
       "      <th>Total Course Hours (Thousands)</th>\n",
       "      <th>Median Hours for Certification</th>\n",
       "      <th>Median Age</th>\n",
       "      <th>% Male</th>\n",
       "      <th>% Female</th>\n",
       "      <th>% Bachelor's Degree or Higher</th>\n",
       "      <th>year</th>\n",
       "    </tr>\n",
       "  </thead>\n",
       "  <tbody>\n",
       "    <tr>\n",
       "      <th>0</th>\n",
       "      <td>MITx</td>\n",
       "      <td>6.002x</td>\n",
       "      <td>2012-05-09</td>\n",
       "      <td>Circuits and Electronics</td>\n",
       "      <td>Khurram Afridi</td>\n",
       "      <td>Science, Technology, Engineering, and Mathematics</td>\n",
       "      <td>1</td>\n",
       "      <td>1</td>\n",
       "      <td>36105</td>\n",
       "      <td>5431</td>\n",
       "      <td>...</td>\n",
       "      <td>83.2</td>\n",
       "      <td>8.17</td>\n",
       "      <td>28.97</td>\n",
       "      <td>418.94</td>\n",
       "      <td>64.45</td>\n",
       "      <td>26.0</td>\n",
       "      <td>88.28</td>\n",
       "      <td>11.72</td>\n",
       "      <td>60.68</td>\n",
       "      <td>2012</td>\n",
       "    </tr>\n",
       "    <tr>\n",
       "      <th>1</th>\n",
       "      <td>MITx</td>\n",
       "      <td>6.00x</td>\n",
       "      <td>2012-09-26</td>\n",
       "      <td>Introduction to Computer Science and Programming</td>\n",
       "      <td>Eric Grimson, John Guttag, Chris Terman</td>\n",
       "      <td>Computer Science</td>\n",
       "      <td>1</td>\n",
       "      <td>1</td>\n",
       "      <td>62709</td>\n",
       "      <td>8949</td>\n",
       "      <td>...</td>\n",
       "      <td>89.14</td>\n",
       "      <td>14.38</td>\n",
       "      <td>39.50</td>\n",
       "      <td>884.04</td>\n",
       "      <td>78.53</td>\n",
       "      <td>28.0</td>\n",
       "      <td>83.5</td>\n",
       "      <td>16.50</td>\n",
       "      <td>63.04</td>\n",
       "      <td>2012</td>\n",
       "    </tr>\n",
       "    <tr>\n",
       "      <th>2</th>\n",
       "      <td>MITx</td>\n",
       "      <td>3.091x</td>\n",
       "      <td>2012-09-10</td>\n",
       "      <td>Introduction to Solid State Chemistry</td>\n",
       "      <td>Michael Cima</td>\n",
       "      <td>Science, Technology, Engineering, and Mathematics</td>\n",
       "      <td>1</td>\n",
       "      <td>1</td>\n",
       "      <td>16663</td>\n",
       "      <td>2855</td>\n",
       "      <td>...</td>\n",
       "      <td>87.49</td>\n",
       "      <td>14.42</td>\n",
       "      <td>34.89</td>\n",
       "      <td>227.55</td>\n",
       "      <td>61.28</td>\n",
       "      <td>27.0</td>\n",
       "      <td></td>\n",
       "      <td>29.68</td>\n",
       "      <td>58.76</td>\n",
       "      <td>2012</td>\n",
       "    </tr>\n",
       "    <tr>\n",
       "      <th>3</th>\n",
       "      <td>HarvardX</td>\n",
       "      <td>CS50x</td>\n",
       "      <td>2012-10-15</td>\n",
       "      <td>Introduction to Computer Science</td>\n",
       "      <td>David Malan, Nate Hardison, Rob Bowden, Tommy ...</td>\n",
       "      <td>Computer Science</td>\n",
       "      <td>1</td>\n",
       "      <td>1</td>\n",
       "      <td>129400</td>\n",
       "      <td>12888</td>\n",
       "      <td>...</td>\n",
       "      <td>0</td>\n",
       "      <td>0.00</td>\n",
       "      <td>1.11</td>\n",
       "      <td>220.90</td>\n",
       "      <td>0.00</td>\n",
       "      <td>28.0</td>\n",
       "      <td>80.02</td>\n",
       "      <td>19.98</td>\n",
       "      <td>58.78</td>\n",
       "      <td>2012</td>\n",
       "    </tr>\n",
       "    <tr>\n",
       "      <th>4</th>\n",
       "      <td>HarvardX</td>\n",
       "      <td>PH207x</td>\n",
       "      <td>2012-10-15</td>\n",
       "      <td>Health in Numbers: Quantitative Methods in Cli...</td>\n",
       "      <td>Earl Francis Cook, Marcello Pagano</td>\n",
       "      <td>Government, Health, and Social Science</td>\n",
       "      <td>1</td>\n",
       "      <td>1</td>\n",
       "      <td>52521</td>\n",
       "      <td>10729</td>\n",
       "      <td>...</td>\n",
       "      <td>77.45</td>\n",
       "      <td>15.98</td>\n",
       "      <td>32.52</td>\n",
       "      <td>804.41</td>\n",
       "      <td>76.10</td>\n",
       "      <td>32.0</td>\n",
       "      <td>56.78</td>\n",
       "      <td>43.22</td>\n",
       "      <td>88.33</td>\n",
       "      <td>2012</td>\n",
       "    </tr>\n",
       "  </tbody>\n",
       "</table>\n",
       "<p>5 rows × 24 columns</p>\n",
       "</div>"
      ],
      "text/plain": [
       "  Institution Course Number Launch Date  \\\n",
       "0        MITx        6.002x  2012-05-09   \n",
       "1        MITx         6.00x  2012-09-26   \n",
       "2        MITx        3.091x  2012-09-10   \n",
       "3    HarvardX         CS50x  2012-10-15   \n",
       "4    HarvardX        PH207x  2012-10-15   \n",
       "\n",
       "                                        Course Title  \\\n",
       "0                           Circuits and Electronics   \n",
       "1   Introduction to Computer Science and Programming   \n",
       "2              Introduction to Solid State Chemistry   \n",
       "3                   Introduction to Computer Science   \n",
       "4  Health in Numbers: Quantitative Methods in Cli...   \n",
       "\n",
       "                                         Instructors  \\\n",
       "0                                     Khurram Afridi   \n",
       "1            Eric Grimson, John Guttag, Chris Terman   \n",
       "2                                       Michael Cima   \n",
       "3  David Malan, Nate Hardison, Rob Bowden, Tommy ...   \n",
       "4                 Earl Francis Cook, Marcello Pagano   \n",
       "\n",
       "                                      Course Subject  Year  \\\n",
       "0  Science, Technology, Engineering, and Mathematics     1   \n",
       "1                                   Computer Science     1   \n",
       "2  Science, Technology, Engineering, and Mathematics     1   \n",
       "3                                   Computer Science     1   \n",
       "4             Government, Health, and Social Science     1   \n",
       "\n",
       "   Honor Code Certificates  Participants (Course Content Accessed)  \\\n",
       "0                        1                                   36105   \n",
       "1                        1                                   62709   \n",
       "2                        1                                   16663   \n",
       "3                        1                                  129400   \n",
       "4                        1                                   52521   \n",
       "\n",
       "   Audited (> 50% Course Content Accessed)  ...   % Played Video  \\\n",
       "0                                     5431  ...             83.2   \n",
       "1                                     8949  ...            89.14   \n",
       "2                                     2855  ...            87.49   \n",
       "3                                    12888  ...                0   \n",
       "4                                    10729  ...            77.45   \n",
       "\n",
       "   % Posted in Forum  % Grade Higher Than Zero  \\\n",
       "0               8.17                     28.97   \n",
       "1              14.38                     39.50   \n",
       "2              14.42                     34.89   \n",
       "3               0.00                      1.11   \n",
       "4              15.98                     32.52   \n",
       "\n",
       "   Total Course Hours (Thousands) Median Hours for Certification  Median Age  \\\n",
       "0                          418.94                          64.45        26.0   \n",
       "1                          884.04                          78.53        28.0   \n",
       "2                          227.55                          61.28        27.0   \n",
       "3                          220.90                           0.00        28.0   \n",
       "4                          804.41                          76.10        32.0   \n",
       "\n",
       "   % Male  % Female  % Bachelor's Degree or Higher  year  \n",
       "0   88.28     11.72                          60.68  2012  \n",
       "1    83.5     16.50                          63.04  2012  \n",
       "2             29.68                          58.76  2012  \n",
       "3   80.02     19.98                          58.78  2012  \n",
       "4   56.78     43.22                          88.33  2012  \n",
       "\n",
       "[5 rows x 24 columns]"
      ]
     },
     "execution_count": 4,
     "metadata": {},
     "output_type": "execute_result"
    }
   ],
   "source": [
    "df.head()  # Shows the first records"
   ]
  },
  {
   "cell_type": "code",
   "execution_count": 5,
   "metadata": {
    "collapsed": false
   },
   "outputs": [
    {
     "name": "stdout",
     "output_type": "stream",
     "text": [
      "<class 'pandas.core.frame.DataFrame'>\n",
      "RangeIndex: 290 entries, 0 to 289\n",
      "Data columns (total 24 columns):\n",
      "Institution                                     290 non-null object\n",
      "Course Number                                   290 non-null object\n",
      "Launch Date                                     290 non-null datetime64[ns]\n",
      "Course Title                                    290 non-null object\n",
      "Instructors                                     289 non-null object\n",
      "Course Subject                                  290 non-null object\n",
      "Year                                            290 non-null int64\n",
      "Honor Code Certificates                         290 non-null int64\n",
      "Participants (Course Content Accessed)          290 non-null int64\n",
      "Audited (> 50% Course Content Accessed)         290 non-null int64\n",
      "Certified                                       290 non-null int64\n",
      "% Audited                                       290 non-null float64\n",
      "% Certified                                     290 non-null float64\n",
      "% Certified of > 50% Course Content Accessed    290 non-null float64\n",
      "% Played Video                                  290 non-null object\n",
      "% Posted in Forum                               290 non-null float64\n",
      "% Grade Higher Than Zero                        290 non-null float64\n",
      "Total Course Hours (Thousands)                  290 non-null float64\n",
      "Median Hours for Certification                  290 non-null float64\n",
      "Median Age                                      290 non-null float64\n",
      "% Male                                          290 non-null object\n",
      "% Female                                        290 non-null float64\n",
      "% Bachelor's Degree or Higher                   290 non-null float64\n",
      "year                                            290 non-null int64\n",
      "dtypes: datetime64[ns](1), float64(10), int64(6), object(7)\n",
      "memory usage: 54.5+ KB\n"
     ]
    }
   ],
   "source": [
    "df.info()"
   ]
  },
  {
   "cell_type": "code",
   "execution_count": 6,
   "metadata": {
    "collapsed": false
   },
   "outputs": [
    {
     "data": {
      "text/html": [
       "<div>\n",
       "<table border=\"1\" class=\"dataframe\">\n",
       "  <thead>\n",
       "    <tr style=\"text-align: right;\">\n",
       "      <th></th>\n",
       "      <th>Year</th>\n",
       "      <th>Honor Code Certificates</th>\n",
       "      <th>Participants (Course Content Accessed)</th>\n",
       "      <th>Audited (&gt; 50% Course Content Accessed)</th>\n",
       "      <th>Certified</th>\n",
       "      <th>% Audited</th>\n",
       "      <th>% Certified</th>\n",
       "      <th>% Certified of &gt; 50% Course Content Accessed</th>\n",
       "      <th>% Posted in Forum</th>\n",
       "      <th>% Grade Higher Than Zero</th>\n",
       "      <th>Total Course Hours (Thousands)</th>\n",
       "      <th>Median Hours for Certification</th>\n",
       "      <th>Median Age</th>\n",
       "      <th>% Female</th>\n",
       "      <th>% Bachelor's Degree or Higher</th>\n",
       "      <th>year</th>\n",
       "    </tr>\n",
       "  </thead>\n",
       "  <tbody>\n",
       "    <tr>\n",
       "      <th>count</th>\n",
       "      <td>290.000000</td>\n",
       "      <td>290.000000</td>\n",
       "      <td>290.000000</td>\n",
       "      <td>290.000000</td>\n",
       "      <td>290.000000</td>\n",
       "      <td>290.000000</td>\n",
       "      <td>290.000000</td>\n",
       "      <td>290.000000</td>\n",
       "      <td>290.000000</td>\n",
       "      <td>290.000000</td>\n",
       "      <td>290.000000</td>\n",
       "      <td>290.000000</td>\n",
       "      <td>290.000000</td>\n",
       "      <td>290.000000</td>\n",
       "      <td>290.000000</td>\n",
       "      <td>290.000000</td>\n",
       "    </tr>\n",
       "    <tr>\n",
       "      <th>mean</th>\n",
       "      <td>3.172414</td>\n",
       "      <td>0.813793</td>\n",
       "      <td>15344.334483</td>\n",
       "      <td>2549.172414</td>\n",
       "      <td>843.810345</td>\n",
       "      <td>24.916966</td>\n",
       "      <td>7.782586</td>\n",
       "      <td>31.445655</td>\n",
       "      <td>9.347517</td>\n",
       "      <td>21.210379</td>\n",
       "      <td>94.981828</td>\n",
       "      <td>44.364552</td>\n",
       "      <td>29.300000</td>\n",
       "      <td>32.989310</td>\n",
       "      <td>72.078724</td>\n",
       "      <td>2014.768966</td>\n",
       "    </tr>\n",
       "    <tr>\n",
       "      <th>std</th>\n",
       "      <td>0.906301</td>\n",
       "      <td>0.389946</td>\n",
       "      <td>28207.578733</td>\n",
       "      <td>3095.159969</td>\n",
       "      <td>1105.594372</td>\n",
       "      <td>15.883538</td>\n",
       "      <td>6.972437</td>\n",
       "      <td>19.751102</td>\n",
       "      <td>7.517141</td>\n",
       "      <td>13.411540</td>\n",
       "      <td>157.617610</td>\n",
       "      <td>43.953709</td>\n",
       "      <td>4.047897</td>\n",
       "      <td>15.843642</td>\n",
       "      <td>10.256434</td>\n",
       "      <td>0.972851</td>\n",
       "    </tr>\n",
       "    <tr>\n",
       "      <th>min</th>\n",
       "      <td>1.000000</td>\n",
       "      <td>0.000000</td>\n",
       "      <td>322.000000</td>\n",
       "      <td>187.000000</td>\n",
       "      <td>0.000000</td>\n",
       "      <td>2.630000</td>\n",
       "      <td>0.000000</td>\n",
       "      <td>0.000000</td>\n",
       "      <td>0.000000</td>\n",
       "      <td>0.000000</td>\n",
       "      <td>0.110000</td>\n",
       "      <td>0.000000</td>\n",
       "      <td>22.000000</td>\n",
       "      <td>6.560000</td>\n",
       "      <td>44.950000</td>\n",
       "      <td>2012.000000</td>\n",
       "    </tr>\n",
       "    <tr>\n",
       "      <th>25%</th>\n",
       "      <td>3.000000</td>\n",
       "      <td>1.000000</td>\n",
       "      <td>3815.000000</td>\n",
       "      <td>755.250000</td>\n",
       "      <td>139.500000</td>\n",
       "      <td>14.215000</td>\n",
       "      <td>2.407500</td>\n",
       "      <td>13.400000</td>\n",
       "      <td>3.992500</td>\n",
       "      <td>10.590000</td>\n",
       "      <td>12.960000</td>\n",
       "      <td>12.242500</td>\n",
       "      <td>26.000000</td>\n",
       "      <td>18.367500</td>\n",
       "      <td>64.515000</td>\n",
       "      <td>2014.000000</td>\n",
       "    </tr>\n",
       "    <tr>\n",
       "      <th>50%</th>\n",
       "      <td>3.000000</td>\n",
       "      <td>1.000000</td>\n",
       "      <td>7901.500000</td>\n",
       "      <td>1517.000000</td>\n",
       "      <td>395.500000</td>\n",
       "      <td>20.425000</td>\n",
       "      <td>5.950000</td>\n",
       "      <td>31.270000</td>\n",
       "      <td>7.245000</td>\n",
       "      <td>19.605000</td>\n",
       "      <td>37.710000</td>\n",
       "      <td>26.965000</td>\n",
       "      <td>29.000000</td>\n",
       "      <td>33.485000</td>\n",
       "      <td>73.055000</td>\n",
       "      <td>2015.000000</td>\n",
       "    </tr>\n",
       "    <tr>\n",
       "      <th>75%</th>\n",
       "      <td>4.000000</td>\n",
       "      <td>1.000000</td>\n",
       "      <td>18038.250000</td>\n",
       "      <td>3383.000000</td>\n",
       "      <td>1201.750000</td>\n",
       "      <td>33.837500</td>\n",
       "      <td>10.687500</td>\n",
       "      <td>47.622500</td>\n",
       "      <td>14.107500</td>\n",
       "      <td>30.902500</td>\n",
       "      <td>97.225000</td>\n",
       "      <td>64.177500</td>\n",
       "      <td>31.000000</td>\n",
       "      <td>45.830000</td>\n",
       "      <td>79.245000</td>\n",
       "      <td>2015.000000</td>\n",
       "    </tr>\n",
       "    <tr>\n",
       "      <th>max</th>\n",
       "      <td>4.000000</td>\n",
       "      <td>1.000000</td>\n",
       "      <td>301082.000000</td>\n",
       "      <td>25637.000000</td>\n",
       "      <td>5783.000000</td>\n",
       "      <td>83.960000</td>\n",
       "      <td>33.980000</td>\n",
       "      <td>77.090000</td>\n",
       "      <td>35.280000</td>\n",
       "      <td>52.350000</td>\n",
       "      <td>895.010000</td>\n",
       "      <td>251.820000</td>\n",
       "      <td>53.000000</td>\n",
       "      <td>74.760000</td>\n",
       "      <td>98.110000</td>\n",
       "      <td>2016.000000</td>\n",
       "    </tr>\n",
       "  </tbody>\n",
       "</table>\n",
       "</div>"
      ],
      "text/plain": [
       "             Year  Honor Code Certificates  \\\n",
       "count  290.000000               290.000000   \n",
       "mean     3.172414                 0.813793   \n",
       "std      0.906301                 0.389946   \n",
       "min      1.000000                 0.000000   \n",
       "25%      3.000000                 1.000000   \n",
       "50%      3.000000                 1.000000   \n",
       "75%      4.000000                 1.000000   \n",
       "max      4.000000                 1.000000   \n",
       "\n",
       "       Participants (Course Content Accessed)  \\\n",
       "count                              290.000000   \n",
       "mean                             15344.334483   \n",
       "std                              28207.578733   \n",
       "min                                322.000000   \n",
       "25%                               3815.000000   \n",
       "50%                               7901.500000   \n",
       "75%                              18038.250000   \n",
       "max                             301082.000000   \n",
       "\n",
       "       Audited (> 50% Course Content Accessed)    Certified   % Audited  \\\n",
       "count                               290.000000   290.000000  290.000000   \n",
       "mean                               2549.172414   843.810345   24.916966   \n",
       "std                                3095.159969  1105.594372   15.883538   \n",
       "min                                 187.000000     0.000000    2.630000   \n",
       "25%                                 755.250000   139.500000   14.215000   \n",
       "50%                                1517.000000   395.500000   20.425000   \n",
       "75%                                3383.000000  1201.750000   33.837500   \n",
       "max                               25637.000000  5783.000000   83.960000   \n",
       "\n",
       "       % Certified  % Certified of > 50% Course Content Accessed  \\\n",
       "count   290.000000                                    290.000000   \n",
       "mean      7.782586                                     31.445655   \n",
       "std       6.972437                                     19.751102   \n",
       "min       0.000000                                      0.000000   \n",
       "25%       2.407500                                     13.400000   \n",
       "50%       5.950000                                     31.270000   \n",
       "75%      10.687500                                     47.622500   \n",
       "max      33.980000                                     77.090000   \n",
       "\n",
       "       % Posted in Forum  % Grade Higher Than Zero  \\\n",
       "count         290.000000                290.000000   \n",
       "mean            9.347517                 21.210379   \n",
       "std             7.517141                 13.411540   \n",
       "min             0.000000                  0.000000   \n",
       "25%             3.992500                 10.590000   \n",
       "50%             7.245000                 19.605000   \n",
       "75%            14.107500                 30.902500   \n",
       "max            35.280000                 52.350000   \n",
       "\n",
       "       Total Course Hours (Thousands)  Median Hours for Certification  \\\n",
       "count                      290.000000                      290.000000   \n",
       "mean                        94.981828                       44.364552   \n",
       "std                        157.617610                       43.953709   \n",
       "min                          0.110000                        0.000000   \n",
       "25%                         12.960000                       12.242500   \n",
       "50%                         37.710000                       26.965000   \n",
       "75%                         97.225000                       64.177500   \n",
       "max                        895.010000                      251.820000   \n",
       "\n",
       "       Median Age    % Female  % Bachelor's Degree or Higher         year  \n",
       "count  290.000000  290.000000                     290.000000   290.000000  \n",
       "mean    29.300000   32.989310                      72.078724  2014.768966  \n",
       "std      4.047897   15.843642                      10.256434     0.972851  \n",
       "min     22.000000    6.560000                      44.950000  2012.000000  \n",
       "25%     26.000000   18.367500                      64.515000  2014.000000  \n",
       "50%     29.000000   33.485000                      73.055000  2015.000000  \n",
       "75%     31.000000   45.830000                      79.245000  2015.000000  \n",
       "max     53.000000   74.760000                      98.110000  2016.000000  "
      ]
     },
     "execution_count": 6,
     "metadata": {},
     "output_type": "execute_result"
    }
   ],
   "source": [
    "df.describe()  # Same as Summary command in R"
   ]
  },
  {
   "cell_type": "markdown",
   "metadata": {},
   "source": [
    "# 1.Number of courses by Institution"
   ]
  },
  {
   "cell_type": "code",
   "execution_count": 7,
   "metadata": {
    "collapsed": false
   },
   "outputs": [
    {
     "data": {
      "text/plain": [
       "<seaborn.axisgrid.FacetGrid at 0xa762f28>"
      ]
     },
     "execution_count": 7,
     "metadata": {},
     "output_type": "execute_result"
    },
    {
     "data": {
      "image/png": "[encoded data removed]",
      "text/plain": [
       "<matplotlib.figure.Figure at 0xa762b70>"
      ]
     },
     "metadata": {},
     "output_type": "display_data"
    }
   ],
   "source": [
    "sns.factorplot('Institution',data=df,kind='count')"
   ]
  },
  {
   "cell_type": "markdown",
   "metadata": {},
   "source": [
    "# 2. Number of courses by Institution - year based distribution"
   ]
  },
  {
   "cell_type": "code",
   "execution_count": 8,
   "metadata": {
    "collapsed": false,
    "scrolled": true
   },
   "outputs": [
    {
     "data": {
      "text/plain": [
       "<seaborn.axisgrid.FacetGrid at 0xac08588>"
      ]
     },
     "execution_count": 8,
     "metadata": {},
     "output_type": "execute_result"
    },
    {
     "data": {
      "image/png": "[encoded data removed]",
      "text/plain": [
       "<matplotlib.figure.Figure at 0xac04978>"
      ]
     },
     "metadata": {},
     "output_type": "display_data"
    }
   ],
   "source": [
    "sns.factorplot('year',data=df,hue='Institution',kind='count')"
   ]
  },
  {
   "cell_type": "markdown",
   "metadata": {},
   "source": [
    "# 3. Number of participants per Institution"
   ]
  },
  {
   "cell_type": "code",
   "execution_count": 60,
   "metadata": {
    "collapsed": false
   },
   "outputs": [
    {
     "name": "stdout",
     "output_type": "stream",
     "text": [
      "  Institution  Participants (Course Content Accessed)\n",
      "0    HarvardX                                 2101121\n",
      "1        MITx                                 2348736\n"
     ]
    },
    {
     "data": {
      "text/plain": [
       "<seaborn.axisgrid.FacetGrid at 0xcb3d6a0>"
      ]
     },
     "execution_count": 60,
     "metadata": {},
     "output_type": "execute_result"
    },
    {
     "data": {
      "image/png": "[encoded data removed]",
      "text/plain": [
       "<matplotlib.figure.Figure at 0xcb3d0b8>"
      ]
     },
     "metadata": {},
     "output_type": "display_data"
    }
   ],
   "source": [
    "no_of_participents = df[['Institution',\"Participants (Course Content Accessed)\"]].groupby('Institution').sum()\n",
    "no_of_participents = no_of_participents.reset_index()\n",
    "\n",
    "print(no_of_participents)\n",
    "\n",
    "sns.factorplot(x='Institution',y='Participants (Course Content Accessed)',kind='bar',data=no_of_participents)"
   ]
  },
  {
   "cell_type": "code",
   "execution_count": null,
   "metadata": {
    "collapsed": true
   },
   "outputs": [],
   "source": []
  }
 ],
 "metadata": {
  "celltoolbar": "Raw Cell Format",
  "kernelspec": {
   "display_name": "Python 3",
   "language": "python",
   "name": "python3"
  },
  "language_info": {
   "codemirror_mode": {
    "name": "ipython",
    "version": 3
   },
   "file_extension": ".py",
   "mimetype": "text/x-python",
   "name": "python",
   "nbconvert_exporter": "python",
   "pygments_lexer": "ipython3",
   "version": "3.6.0"
  }
 },
 "nbformat": 4,
 "nbformat_minor": 2
}
